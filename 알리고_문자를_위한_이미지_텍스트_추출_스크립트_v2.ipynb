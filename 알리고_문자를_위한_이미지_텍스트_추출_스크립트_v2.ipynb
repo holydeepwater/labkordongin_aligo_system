{
  "nbformat": 4,
  "nbformat_minor": 0,
  "metadata": {
    "colab": {
      "provenance": []
    },
    "kernelspec": {
      "name": "python3",
      "display_name": "Python 3"
    },
    "language_info": {
      "name": "python"
    }
  },
  "cells": [
    {
      "cell_type": "code",
      "execution_count": 2,
      "metadata": {
        "id": "qfuAXMARkFVg",
        "colab": {
          "base_uri": "https://localhost:8080/"
        },
        "outputId": "357d6cec-9eba-4969-f287-5c87ca20817e"
      },
      "outputs": [
        {
          "output_type": "stream",
          "name": "stdout",
          "text": [
            "Selecting previously unselected package tesseract-ocr-kor.\n",
            "(Reading database ... 126371 files and directories currently installed.)\n",
            "Preparing to unpack .../tesseract-ocr-kor_1%3a4.00~git30-7274cfa-1.1_all.deb ...\n",
            "Unpacking tesseract-ocr-kor (1:4.00~git30-7274cfa-1.1) ...\n",
            "Setting up tesseract-ocr-kor (1:4.00~git30-7274cfa-1.1) ...\n",
            "\u001b[2K   \u001b[90m━━━━━━━━━━━━━━━━━━━━━━━━━━━━━━━━━━━━━━━━\u001b[0m \u001b[32m24.1/24.1 MB\u001b[0m \u001b[31m44.9 MB/s\u001b[0m eta \u001b[36m0:00:00\u001b[0m\n",
            "\u001b[?25h"
          ]
        }
      ],
      "source": [
        "!apt-get -y install -qq tesseract-ocr tesseract-ocr-kor\n",
        "!pip -q install pymupdf pillow pytesseract google-api-python-client google-auth-httplib2 google-auth-oauthlib opencv-python-headless"
      ]
    },
    {
      "cell_type": "code",
      "source": [
        "#last\n",
        "import os, re\n",
        "import numpy as np\n",
        "import cv2\n",
        "import fitz\n",
        "from PIL import Image\n",
        "import pytesseract\n",
        "from pytesseract import Output\n",
        "\n",
        "PDF_DIR = \"/content/pdf\"\n",
        "JPG_DIR = \"/content/jpg\"\n",
        "os.makedirs(JPG_DIR, exist_ok=True)\n",
        "\n",
        "ZOOM = 2.6\n",
        "ROW_KEYWORDS = [\"comment\", \"코멘트\"]\n",
        "OCR_LANGS = \"eng+kor\"\n",
        "OCR_MIN_CONF = 50\n",
        "OCR_PSM = 6\n",
        "MIN_HLINE_RATIO = 0.55\n",
        "LEFT_BAND_RATIO = 0.4\n",
        "ROW_PAD_UP_PT = 2\n",
        "ROW_PAD_DOWN_PT = 2\n",
        "\n",
        "def _norm_token(s: str) -> str:\n",
        "    return re.sub(r\"[^0-9a-zA-Z가-힣]\", \"\", (s or \"\").lower())\n",
        "\n",
        "def _opencv_horizontal_lines(gray: np.ndarray, min_len_ratio: float) -> list[int]:\n",
        "    thr = cv2.threshold(gray, 0, 255, cv2.THRESH_BINARY+cv2.THRESH_OTSU)[1]\n",
        "    binimg = 255 - thr if np.mean(thr) > 128 else thr\n",
        "    W = gray.shape[1]\n",
        "    k = max(1, W // 60)\n",
        "    kernel = cv2.getStructuringElement(cv2.MORPH_RECT, (k, 1))\n",
        "    morph = cv2.morphologyEx(binimg, cv2.MORPH_OPEN, kernel, iterations=1)\n",
        "    contours, _ = cv2.findContours(morph, cv2.RETR_EXTERNAL, cv2.CHAIN_APPROX_SIMPLE)\n",
        "    ys = []\n",
        "    for c in contours:\n",
        "        x, y, w, h = cv2.boundingRect(c)\n",
        "        if w >= int(W * min_len_ratio) and h <= 4:\n",
        "            ys.append(y)\n",
        "    return sorted(set(ys))\n",
        "\n",
        "def _ocr_has_keyword(pil_img: Image.Image) -> bool:\n",
        "    data = pytesseract.image_to_data(\n",
        "        pil_img, lang=OCR_LANGS, config=f\"--psm {OCR_PSM}\", output_type=Output.DICT\n",
        "    )\n",
        "    for i in range(len(data[\"text\"])):\n",
        "        txt = _norm_token(data[\"text\"][i])\n",
        "        if not txt:\n",
        "            continue\n",
        "        try:\n",
        "            conf = float(data[\"conf\"][i])\n",
        "        except:\n",
        "            conf = 0\n",
        "        if conf < OCR_MIN_CONF:\n",
        "            continue\n",
        "        for kw in ROW_KEYWORDS:\n",
        "            if _norm_token(kw) in txt:\n",
        "                return True\n",
        "    return False\n",
        "\n",
        "def find_comment_row_band(page: fitz.Page):\n",
        "    mat = fitz.Matrix(ZOOM, ZOOM)\n",
        "    pix = page.get_pixmap(matrix=mat, alpha=False)\n",
        "    Wpx, Hpx = pix.width, pix.height\n",
        "    img = Image.frombytes(\"RGB\", (Wpx, Hpx), pix.samples)\n",
        "    gray = cv2.cvtColor(np.array(img), cv2.COLOR_RGB2GRAY)\n",
        "\n",
        "    y_lines = _opencv_horizontal_lines(gray, MIN_HLINE_RATIO)\n",
        "    if len(y_lines) < 2:\n",
        "        return None\n",
        "    y_lines = sorted(y_lines)\n",
        "\n",
        "    left_w = int(Wpx * LEFT_BAND_RATIO)\n",
        "    for i in range(len(y_lines)-1):\n",
        "        top_px, bot_px = y_lines[i], y_lines[i+1]\n",
        "        if bot_px - top_px < 8:\n",
        "            continue\n",
        "        crop = img.crop((0, top_px, left_w, bot_px))\n",
        "        if _ocr_has_keyword(crop):\n",
        "            top_pt = max(page.rect.y0, (top_px / ZOOM) - ROW_PAD_UP_PT)\n",
        "            bot_pt = min(page.rect.y1, (bot_px / ZOOM) + ROW_PAD_DOWN_PT)\n",
        "            return (top_pt, bot_pt)\n",
        "    return None\n",
        "\n",
        "def render_page_cut_band(page: fitz.Page, band, zoom: float = ZOOM):\n",
        "    mat = fitz.Matrix(zoom, zoom)\n",
        "    pix = page.get_pixmap(matrix=mat, alpha=False)\n",
        "    img = Image.frombytes(\"RGB\", [pix.width, pix.height], pix.samples)\n",
        "\n",
        "    if band:\n",
        "        px_per_pt = zoom\n",
        "        top_px = int(max(0, round(band[0] * px_per_pt)))\n",
        "        bot_px = int(min(img.height, round(band[1] * px_per_pt)))\n",
        "\n",
        "        # 위쪽 + 아래쪽\n",
        "        upper = img.crop((0, 0, img.width, top_px))\n",
        "        lower = img.crop((0, bot_px, img.width, img.height))\n",
        "\n",
        "        # 두 부분 합치기\n",
        "        new_h = upper.height + lower.height\n",
        "        new_img = Image.new(\"RGB\", (img.width, new_h), (255,255,255))\n",
        "        new_img.paste(upper, (0, 0))\n",
        "        new_img.paste(lower, (0, upper.height))\n",
        "        return new_img\n",
        "\n",
        "    return img\n",
        "\n",
        "# ==== 실행 ====\n",
        "for pdf_file in os.listdir(PDF_DIR):\n",
        "    if not pdf_file.lower().endswith(\".pdf\"):\n",
        "        continue\n",
        "    pdf_path = os.path.join(PDF_DIR, pdf_file)\n",
        "    doc = fitz.open(pdf_path)\n",
        "    if len(doc) == 0:\n",
        "        continue\n",
        "    page = doc[0]\n",
        "\n",
        "    band = find_comment_row_band(page)\n",
        "    final_img = render_page_cut_band(page, band)\n",
        "\n",
        "    base = os.path.splitext(pdf_file)[0]\n",
        "    final_img.save(os.path.join(JPG_DIR, f\"{base}_학부모.jpg\"), \"JPEG\", quality=95)\n",
        "\n",
        "    doc.close()\n",
        "\n",
        "print(\"✅ 변환 완료! Comment 영역이 아예 잘려나간 이미지가 저장되었습니다.\")\n"
      ],
      "metadata": {
        "colab": {
          "base_uri": "https://localhost:8080/"
        },
        "id": "MShACIid1xC6",
        "outputId": "4844a722-da2e-4e73-81e2-f079f3e95b96"
      },
      "execution_count": 10,
      "outputs": [
        {
          "output_type": "stream",
          "name": "stdout",
          "text": [
            "✅ 변환 완료! Comment 영역이 아예 잘려나간 이미지가 저장되었습니다.\n"
          ]
        }
      ]
    },
    {
      "cell_type": "code",
      "source": [
        "import shutil\n",
        "from google.colab import files\n",
        "\n",
        "# jpg 폴더를 zip으로 압축\n",
        "shutil.make_archive(\"/content/jpg_folder\", 'zip', JPG_DIR)\n",
        "\n",
        "# 로컬 다운로드\n",
        "files.download(\"/content/jpg_folder.zip\")\n"
      ],
      "metadata": {
        "colab": {
          "base_uri": "https://localhost:8080/",
          "height": 17
        },
        "id": "SSqYdFNe3L07",
        "outputId": "44cd3e6b-5326-40a5-804b-65b46533ca65"
      },
      "execution_count": 11,
      "outputs": [
        {
          "output_type": "display_data",
          "data": {
            "text/plain": [
              "<IPython.core.display.Javascript object>"
            ],
            "application/javascript": [
              "\n",
              "    async function download(id, filename, size) {\n",
              "      if (!google.colab.kernel.accessAllowed) {\n",
              "        return;\n",
              "      }\n",
              "      const div = document.createElement('div');\n",
              "      const label = document.createElement('label');\n",
              "      label.textContent = `Downloading \"${filename}\": `;\n",
              "      div.appendChild(label);\n",
              "      const progress = document.createElement('progress');\n",
              "      progress.max = size;\n",
              "      div.appendChild(progress);\n",
              "      document.body.appendChild(div);\n",
              "\n",
              "      const buffers = [];\n",
              "      let downloaded = 0;\n",
              "\n",
              "      const channel = await google.colab.kernel.comms.open(id);\n",
              "      // Send a message to notify the kernel that we're ready.\n",
              "      channel.send({})\n",
              "\n",
              "      for await (const message of channel.messages) {\n",
              "        // Send a message to notify the kernel that we're ready.\n",
              "        channel.send({})\n",
              "        if (message.buffers) {\n",
              "          for (const buffer of message.buffers) {\n",
              "            buffers.push(buffer);\n",
              "            downloaded += buffer.byteLength;\n",
              "            progress.value = downloaded;\n",
              "          }\n",
              "        }\n",
              "      }\n",
              "      const blob = new Blob(buffers, {type: 'application/binary'});\n",
              "      const a = document.createElement('a');\n",
              "      a.href = window.URL.createObjectURL(blob);\n",
              "      a.download = filename;\n",
              "      div.appendChild(a);\n",
              "      a.click();\n",
              "      div.remove();\n",
              "    }\n",
              "  "
            ]
          },
          "metadata": {}
        },
        {
          "output_type": "display_data",
          "data": {
            "text/plain": [
              "<IPython.core.display.Javascript object>"
            ],
            "application/javascript": [
              "download(\"download_2161f9bc-1d20-4957-810d-4f0145898acb\", \"jpg_folder.zip\", 388858)"
            ]
          },
          "metadata": {}
        }
      ]
    },
    {
      "cell_type": "markdown",
      "source": [
        "텍스트 추출"
      ],
      "metadata": {
        "id": "OxHe3Ykw5wHz"
      }
    },
    {
      "cell_type": "code",
      "source": [
        "import os, re\n",
        "import fitz\n",
        "import pytesseract\n",
        "from PIL import Image\n",
        "import cv2\n",
        "import numpy as np\n",
        "\n",
        "# ==== 경로 ====\n",
        "PDF_DIR = \"/content/pdf\"\n",
        "TXT_DIR = \"/content/txt\"\n",
        "os.makedirs(TXT_DIR, exist_ok=True)\n",
        "\n",
        "# ==== 옵션 ====\n",
        "ZOOM = 2.6\n",
        "OCR_LANGS = \"eng+kor\"\n",
        "OCR_PSM = 6\n",
        "OCR_MIN_CONF = 50\n",
        "ROW_KEYWORDS = [\"comment\", \"코멘트\"]\n",
        "MIN_HLINE_RATIO = 0.55\n",
        "LEFT_BAND_RATIO = 0.4\n",
        "ROW_PAD_UP_PT = 2\n",
        "ROW_PAD_DOWN_PT = 2\n",
        "\n",
        "# ==== 유틸 ====\n",
        "def _norm_token(s: str) -> str:\n",
        "    return re.sub(r\"[^0-9a-zA-Z가-힣]\", \"\", (s or \"\").lower())\n",
        "\n",
        "def _opencv_horizontal_lines(gray: np.ndarray, min_len_ratio: float) -> list[int]:\n",
        "    thr = cv2.threshold(gray, 0, 255, cv2.THRESH_BINARY+cv2.THRESH_OTSU)[1]\n",
        "    binimg = 255 - thr if np.mean(thr) > 128 else thr\n",
        "    W = gray.shape[1]\n",
        "    k = max(1, W // 60)\n",
        "    kernel = cv2.getStructuringElement(cv2.MORPH_RECT, (k, 1))\n",
        "    morph = cv2.morphologyEx(binimg, cv2.MORPH_OPEN, kernel, iterations=1)\n",
        "    contours, _ = cv2.findContours(morph, cv2.RETR_EXTERNAL, cv2.CHAIN_APPROX_SIMPLE)\n",
        "    ys = []\n",
        "    for c in contours:\n",
        "        x, y, w, h = cv2.boundingRect(c)\n",
        "        if w >= int(W * min_len_ratio) and h <= 4:\n",
        "            ys.append(y)\n",
        "    return sorted(set(ys))\n",
        "\n",
        "def _ocr_has_keyword(pil_img: Image.Image) -> bool:\n",
        "    data = pytesseract.image_to_data(\n",
        "        pil_img, lang=OCR_LANGS, config=f\"--psm {OCR_PSM}\", output_type=pytesseract.Output.DICT\n",
        "    )\n",
        "    for i in range(len(data[\"text\"])):\n",
        "        txt = _norm_token(data[\"text\"][i])\n",
        "        if not txt:\n",
        "            continue\n",
        "        try:\n",
        "            conf = float(data[\"conf\"][i])\n",
        "        except:\n",
        "            conf = 0\n",
        "        if conf < OCR_MIN_CONF:\n",
        "            continue\n",
        "        for kw in ROW_KEYWORDS:\n",
        "            if _norm_token(kw) in txt:\n",
        "                return True\n",
        "    return False\n",
        "\n",
        "def find_comment_band(page: fitz.Page):\n",
        "    mat = fitz.Matrix(ZOOM, ZOOM)\n",
        "    pix = page.get_pixmap(matrix=mat, alpha=False)\n",
        "    Wpx, Hpx = pix.width, pix.height\n",
        "    img = Image.frombytes(\"RGB\", (Wpx, Hpx), pix.samples)\n",
        "    gray = cv2.cvtColor(np.array(img), cv2.COLOR_RGB2GRAY)\n",
        "\n",
        "    y_lines = _opencv_horizontal_lines(gray, MIN_HLINE_RATIO)\n",
        "    if len(y_lines) < 2:\n",
        "        return None\n",
        "    y_lines = sorted(y_lines)\n",
        "\n",
        "    left_w = int(Wpx * LEFT_BAND_RATIO)\n",
        "    for i in range(len(y_lines)-1):\n",
        "        top_px, bot_px = y_lines[i], y_lines[i+1]\n",
        "        if bot_px - top_px < 8:\n",
        "            continue\n",
        "        crop = img.crop((0, top_px, left_w, bot_px))\n",
        "        if _ocr_has_keyword(crop):\n",
        "            top_pt = max(page.rect.y0, (top_px / ZOOM) - ROW_PAD_UP_PT)\n",
        "            bot_pt = min(page.rect.y1, (bot_px / ZOOM) + ROW_PAD_DOWN_PT)\n",
        "            return (top_pt, bot_pt)\n",
        "    return None\n",
        "\n",
        "def extract_comment_text(page: fitz.Page, band) -> str:\n",
        "    \"\"\"band 영역만 잘라서 OCR → 텍스트 추출\"\"\"\n",
        "    if band is None:\n",
        "        return \"코멘트 없음\"\n",
        "    mat = fitz.Matrix(ZOOM, ZOOM)\n",
        "    pix = page.get_pixmap(matrix=mat, alpha=False)\n",
        "    img = Image.frombytes(\"RGB\", (pix.width, pix.height), pix.samples)\n",
        "\n",
        "    px_per_pt = ZOOM\n",
        "    top_px = int(max(0, round(band[0] * px_per_pt)))\n",
        "    bot_px = int(min(img.height, round(band[1] * px_per_pt)))\n",
        "\n",
        "    #왼쪽 영역(comment 라벨 부분) 제외하고 오른쪽만 OCR\n",
        "    left_w = int(img.width * LEFT_BAND_RATIO)\n",
        "    comment_crop = img.crop((left_w, top_px, img.width, bot_px))\n",
        "\n",
        "    #OCR (LSTM + 문단 모드)\n",
        "    config = \"--oem 3 --psm 4\"\n",
        "    text = pytesseract.image_to_string(\n",
        "        comment_crop, lang=\"kor+eng\", config=config\n",
        "    )\n",
        "\n",
        "    #후처리: 줄바꿈/공백 정리\n",
        "    text = re.sub(r\"\\s+\", \" \", text).strip()\n",
        "\n",
        "    return text if text else \"코멘트 없음\"\n",
        "\n",
        "# ==== 실행 ====\n",
        "results = {}\n",
        "\n",
        "for pdf_file in os.listdir(PDF_DIR):\n",
        "    if not pdf_file.lower().endswith(\".pdf\"):\n",
        "        continue\n",
        "\n",
        "    base = os.path.splitext(pdf_file)[0]\n",
        "    m = re.match(r\".*_(TEST|HW)_(.+)\", base)\n",
        "    if not m:\n",
        "        continue\n",
        "    kind, name = m.groups()\n",
        "\n",
        "    doc = fitz.open(os.path.join(PDF_DIR, pdf_file))\n",
        "    if len(doc) == 0:\n",
        "        continue\n",
        "    page = doc[0]\n",
        "\n",
        "    band = find_comment_band(page)\n",
        "    comment_text = extract_comment_text(page, band)\n",
        "\n",
        "    if name not in results:\n",
        "        results[name] = {}\n",
        "    results[name][kind] = comment_text\n",
        "\n",
        "    doc.close()\n",
        "\n",
        "# ==== txt 저장 ====\n",
        "for name, comments in results.items():\n",
        "    txt_path = os.path.join(TXT_DIR, f\"{name}.txt\")\n",
        "    with open(txt_path, \"w\", encoding=\"utf-8\") as f:\n",
        "        f.write(\"안녕하세요. 경복궁 매시브학원 국어 이동인T입니다.\\n\\n\")\n",
        "        f.write(\"2025. 08. 23. TEST 채점 결과 발송드립니다.\\n\\n\")\n",
        "        f.write(\"--- TEST 코멘트 ---\\n\")\n",
        "        f.write(comments.get(\"TEST\", \"코멘트 없음\") + \"\\n\\n\")\n",
        "        f.write(\"--- HW 코멘트 ---\\n\")\n",
        "        f.write(comments.get(\"HW\", \"코멘트 없음\") + \"\\n\")\n",
        "\n",
        "print(\"✅ 모든 학생 코멘트가 txt로 저장되었습니다.\")\n"
      ],
      "metadata": {
        "colab": {
          "base_uri": "https://localhost:8080/"
        },
        "id": "J5S0W0tf53WC",
        "outputId": "5e3376ab-9959-421a-cf82-f8300ad28d7d"
      },
      "execution_count": 16,
      "outputs": [
        {
          "output_type": "stream",
          "name": "stdout",
          "text": [
            "✅ 모든 학생 코멘트가 txt로 저장되었습니다.\n"
          ]
        }
      ]
    },
    {
      "cell_type": "code",
      "source": [
        "import shutil\n",
        "from google.colab import files\n",
        "\n",
        "# txt 폴더를 zip으로 압축\n",
        "shutil.make_archive(\"/content/txt_folder\", 'zip', TXT_DIR)\n",
        "\n",
        "# 로컬 다운로드\n",
        "files.download(\"/content/txt_folder.zip\")\n"
      ],
      "metadata": {
        "colab": {
          "base_uri": "https://localhost:8080/",
          "height": 17
        },
        "id": "m515_-GR7MzK",
        "outputId": "dedd0f6b-3ec7-44c3-b993-e659be3e46f0"
      },
      "execution_count": 15,
      "outputs": [
        {
          "output_type": "display_data",
          "data": {
            "text/plain": [
              "<IPython.core.display.Javascript object>"
            ],
            "application/javascript": [
              "\n",
              "    async function download(id, filename, size) {\n",
              "      if (!google.colab.kernel.accessAllowed) {\n",
              "        return;\n",
              "      }\n",
              "      const div = document.createElement('div');\n",
              "      const label = document.createElement('label');\n",
              "      label.textContent = `Downloading \"${filename}\": `;\n",
              "      div.appendChild(label);\n",
              "      const progress = document.createElement('progress');\n",
              "      progress.max = size;\n",
              "      div.appendChild(progress);\n",
              "      document.body.appendChild(div);\n",
              "\n",
              "      const buffers = [];\n",
              "      let downloaded = 0;\n",
              "\n",
              "      const channel = await google.colab.kernel.comms.open(id);\n",
              "      // Send a message to notify the kernel that we're ready.\n",
              "      channel.send({})\n",
              "\n",
              "      for await (const message of channel.messages) {\n",
              "        // Send a message to notify the kernel that we're ready.\n",
              "        channel.send({})\n",
              "        if (message.buffers) {\n",
              "          for (const buffer of message.buffers) {\n",
              "            buffers.push(buffer);\n",
              "            downloaded += buffer.byteLength;\n",
              "            progress.value = downloaded;\n",
              "          }\n",
              "        }\n",
              "      }\n",
              "      const blob = new Blob(buffers, {type: 'application/binary'});\n",
              "      const a = document.createElement('a');\n",
              "      a.href = window.URL.createObjectURL(blob);\n",
              "      a.download = filename;\n",
              "      div.appendChild(a);\n",
              "      a.click();\n",
              "      div.remove();\n",
              "    }\n",
              "  "
            ]
          },
          "metadata": {}
        },
        {
          "output_type": "display_data",
          "data": {
            "text/plain": [
              "<IPython.core.display.Javascript object>"
            ],
            "application/javascript": [
              "download(\"download_e24941f9-d591-48f3-8099-89141d5ab49c\", \"txt_folder.zip\", 2483)"
            ]
          },
          "metadata": {}
        }
      ]
    }
  ]
}