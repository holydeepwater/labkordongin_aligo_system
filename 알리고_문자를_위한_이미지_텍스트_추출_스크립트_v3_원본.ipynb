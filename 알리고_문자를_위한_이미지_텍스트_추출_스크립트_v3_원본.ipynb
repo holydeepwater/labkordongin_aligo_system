{
  "nbformat": 4,
  "nbformat_minor": 0,
  "metadata": {
    "colab": {
      "provenance": []
    },
    "kernelspec": {
      "name": "python3",
      "display_name": "Python 3"
    },
    "language_info": {
      "name": "python"
    }
  },
  "cells": [
    {
      "cell_type": "markdown",
      "source": [
        "0. 왼쪽의 폴더 모양 아이콘 클릭하세요. 마우스 왼쪽 클릭해서 '새 폴더'클릭 - 폴더 이름은 'pdf'로 변경해주세요. 그 폴더에 pdf 파일들 전부 끌어 넣으세요.\n"
      ],
      "metadata": {
        "id": "0jBKcI_dGBGE"
      }
    },
    {
      "cell_type": "markdown",
      "source": [
        "1. 프로그램 설치"
      ],
      "metadata": {
        "id": "Ge7n7IHUFBCq"
      }
    },
    {
      "cell_type": "code",
      "execution_count": 1,
      "metadata": {
        "id": "qfuAXMARkFVg",
        "colab": {
          "base_uri": "https://localhost:8080/"
        },
        "outputId": "d1dd3884-e694-4ce3-ebd0-3f212c36ab8d"
      },
      "outputs": [
        {
          "output_type": "stream",
          "name": "stdout",
          "text": [
            "Selecting previously unselected package tesseract-ocr-kor.\n",
            "(Reading database ... 126371 files and directories currently installed.)\n",
            "Preparing to unpack .../tesseract-ocr-kor_1%3a4.00~git30-7274cfa-1.1_all.deb ...\n",
            "Unpacking tesseract-ocr-kor (1:4.00~git30-7274cfa-1.1) ...\n",
            "Setting up tesseract-ocr-kor (1:4.00~git30-7274cfa-1.1) ...\n",
            "\u001b[2K   \u001b[90m━━━━━━━━━━━━━━━━━━━━━━━━━━━━━━━━━━━━━━━━\u001b[0m \u001b[32m24.1/24.1 MB\u001b[0m \u001b[31m68.8 MB/s\u001b[0m eta \u001b[36m0:00:00\u001b[0m\n",
            "\u001b[?25h"
          ]
        }
      ],
      "source": [
        "!apt-get -y install -qq tesseract-ocr tesseract-ocr-kor\n",
        "!pip -q install pymupdf pillow pytesseract google-api-python-client google-auth-httplib2 google-auth-oauthlib opencv-python-headless"
      ]
    },
    {
      "cell_type": "markdown",
      "source": [
        "2. PDF -> JPG"
      ],
      "metadata": {
        "id": "kHeUx-3ZFJW5"
      }
    },
    {
      "cell_type": "code",
      "source": [
        "import os, re\n",
        "import numpy as np\n",
        "import cv2\n",
        "import fitz\n",
        "from PIL import Image\n",
        "import pytesseract\n",
        "from pytesseract import Output\n",
        "\n",
        "PDF_DIR = \"/content/pdf\"\n",
        "JPG_DIR = \"/content/jpg\"\n",
        "os.makedirs(JPG_DIR, exist_ok=True)\n",
        "\n",
        "ZOOM = 2.6\n",
        "ROW_KEYWORDS = [\"comment\", \"코멘트\"]\n",
        "OCR_LANGS = \"eng+kor\"\n",
        "OCR_MIN_CONF = 50\n",
        "OCR_PSM = 6\n",
        "MIN_HLINE_RATIO = 0.55\n",
        "LEFT_BAND_RATIO = 0.4\n",
        "ROW_PAD_UP_PT = 2\n",
        "ROW_PAD_DOWN_PT = 2\n",
        "\n",
        "def _norm_token(s: str) -> str:\n",
        "    return re.sub(r\"[^0-9a-zA-Z가-힣]\", \"\", (s or \"\").lower())\n",
        "\n",
        "def _opencv_horizontal_lines(gray: np.ndarray, min_len_ratio: float) -> list[int]:\n",
        "    thr = cv2.threshold(gray, 0, 255, cv2.THRESH_BINARY+cv2.THRESH_OTSU)[1]\n",
        "    binimg = 255 - thr if np.mean(thr) > 128 else thr\n",
        "    W = gray.shape[1]\n",
        "    k = max(1, W // 60)\n",
        "    kernel = cv2.getStructuringElement(cv2.MORPH_RECT, (k, 1))\n",
        "    morph = cv2.morphologyEx(binimg, cv2.MORPH_OPEN, kernel, iterations=1)\n",
        "    contours, _ = cv2.findContours(morph, cv2.RETR_EXTERNAL, cv2.CHAIN_APPROX_SIMPLE)\n",
        "    ys = []\n",
        "    for c in contours:\n",
        "        x, y, w, h = cv2.boundingRect(c)\n",
        "        if w >= int(W * min_len_ratio) and h <= 4:\n",
        "            ys.append(y)\n",
        "    return sorted(set(ys))\n",
        "\n",
        "def _ocr_has_keyword(pil_img: Image.Image) -> bool:\n",
        "    data = pytesseract.image_to_data(\n",
        "        pil_img, lang=OCR_LANGS, config=f\"--psm {OCR_PSM}\", output_type=Output.DICT\n",
        "    )\n",
        "    for i in range(len(data[\"text\"])):\n",
        "        txt = _norm_token(data[\"text\"][i])\n",
        "        if not txt:\n",
        "            continue\n",
        "        try:\n",
        "            conf = float(data[\"conf\"][i])\n",
        "        except:\n",
        "            conf = 0\n",
        "        if conf < OCR_MIN_CONF:\n",
        "            continue\n",
        "        for kw in ROW_KEYWORDS:\n",
        "            if _norm_token(kw) in txt:\n",
        "                return True\n",
        "    return False\n",
        "\n",
        "def find_comment_row_band(page: fitz.Page):\n",
        "    mat = fitz.Matrix(ZOOM, ZOOM)\n",
        "    pix = page.get_pixmap(matrix=mat, alpha=False)\n",
        "    Wpx, Hpx = pix.width, pix.height\n",
        "    img = Image.frombytes(\"RGB\", (Wpx, Hpx), pix.samples)\n",
        "    gray = cv2.cvtColor(np.array(img), cv2.COLOR_RGB2GRAY)\n",
        "\n",
        "    y_lines = _opencv_horizontal_lines(gray, MIN_HLINE_RATIO)\n",
        "    if len(y_lines) < 2:\n",
        "        return None\n",
        "    y_lines = sorted(y_lines)\n",
        "\n",
        "    left_w = int(Wpx * LEFT_BAND_RATIO)\n",
        "    for i in range(len(y_lines)-1):\n",
        "        top_px, bot_px = y_lines[i], y_lines[i+1]\n",
        "        if bot_px - top_px < 8:\n",
        "            continue\n",
        "        crop = img.crop((0, top_px, left_w, bot_px))\n",
        "        if _ocr_has_keyword(crop):\n",
        "            top_pt = max(page.rect.y0, (top_px / ZOOM) - ROW_PAD_UP_PT)\n",
        "            bot_pt = min(page.rect.y1, (bot_px / ZOOM) + ROW_PAD_DOWN_PT)\n",
        "            return (top_pt, bot_pt)\n",
        "    return None\n",
        "\n",
        "def render_page_cut_band(page: fitz.Page, band, zoom: float = ZOOM):\n",
        "    mat = fitz.Matrix(zoom, zoom)\n",
        "    pix = page.get_pixmap(matrix=mat, alpha=False)\n",
        "    img = Image.frombytes(\"RGB\", [pix.width, pix.height], pix.samples)\n",
        "\n",
        "    if band:\n",
        "        px_per_pt = zoom\n",
        "        top_px = int(max(0, round(band[0] * px_per_pt)))\n",
        "        bot_px = int(min(img.height, round(band[1] * px_per_pt)))\n",
        "\n",
        "        # 위쪽 + 아래쪽\n",
        "        upper = img.crop((0, 0, img.width, top_px))\n",
        "        lower = img.crop((0, bot_px, img.width, img.height))\n",
        "\n",
        "        # 두 부분 합치기\n",
        "        new_h = upper.height + lower.height\n",
        "        new_img = Image.new(\"RGB\", (img.width, new_h), (255,255,255))\n",
        "        new_img.paste(upper, (0, 0))\n",
        "        new_img.paste(lower, (0, upper.height))\n",
        "        return new_img\n",
        "\n",
        "    return img"
      ],
      "metadata": {
        "id": "MShACIid1xC6"
      },
      "execution_count": 2,
      "outputs": []
    },
    {
      "cell_type": "code",
      "source": [
        "for pdf_file in os.listdir(PDF_DIR):\n",
        "    if not pdf_file.lower().endswith(\".pdf\"):\n",
        "        continue\n",
        "    pdf_path = os.path.join(PDF_DIR, pdf_file)\n",
        "    doc = fitz.open(pdf_path)\n",
        "    if len(doc) == 0:\n",
        "        continue\n",
        "    page = doc[0]\n",
        "\n",
        "    band = find_comment_row_band(page)\n",
        "    final_img = render_page_cut_band(page, band)\n",
        "\n",
        "    base = os.path.splitext(pdf_file)[0]\n",
        "    final_img.save(os.path.join(JPG_DIR, f\"{base}_학부모.jpg\"), \"JPEG\", quality=95)\n",
        "\n",
        "    doc.close()\n",
        "\n",
        "print(\"✅ 변환 완료!\")"
      ],
      "metadata": {
        "id": "JLeECGCKFiD2",
        "colab": {
          "base_uri": "https://localhost:8080/"
        },
        "outputId": "c18913cb-1a27-401d-b384-92b6ce8b390b"
      },
      "execution_count": 3,
      "outputs": [
        {
          "output_type": "stream",
          "name": "stdout",
          "text": [
            "✅ 변환 완료!\n"
          ]
        }
      ]
    },
    {
      "cell_type": "markdown",
      "source": [
        "3. JPG 폴더 저장 - 저장된 폴더는 zip 압축 상태 입니다. 압축을 풀면 jpg 사진을 사용할 수 있습니다."
      ],
      "metadata": {
        "id": "RxjwkGoYFQot"
      }
    },
    {
      "cell_type": "code",
      "source": [
        "import shutil\n",
        "from google.colab import files\n",
        "\n",
        "# jpg 폴더를 zip으로 압축\n",
        "shutil.make_archive(\"/content/jpg_folder\", 'zip', JPG_DIR)\n",
        "\n",
        "# 로컬 다운로드\n",
        "files.download(\"/content/jpg_folder.zip\")\n"
      ],
      "metadata": {
        "colab": {
          "base_uri": "https://localhost:8080/",
          "height": 17
        },
        "id": "SSqYdFNe3L07",
        "outputId": "a2b63f63-9678-4cb7-b728-7a8ad17255eb"
      },
      "execution_count": 5,
      "outputs": [
        {
          "output_type": "display_data",
          "data": {
            "text/plain": [
              "<IPython.core.display.Javascript object>"
            ],
            "application/javascript": [
              "\n",
              "    async function download(id, filename, size) {\n",
              "      if (!google.colab.kernel.accessAllowed) {\n",
              "        return;\n",
              "      }\n",
              "      const div = document.createElement('div');\n",
              "      const label = document.createElement('label');\n",
              "      label.textContent = `Downloading \"${filename}\": `;\n",
              "      div.appendChild(label);\n",
              "      const progress = document.createElement('progress');\n",
              "      progress.max = size;\n",
              "      div.appendChild(progress);\n",
              "      document.body.appendChild(div);\n",
              "\n",
              "      const buffers = [];\n",
              "      let downloaded = 0;\n",
              "\n",
              "      const channel = await google.colab.kernel.comms.open(id);\n",
              "      // Send a message to notify the kernel that we're ready.\n",
              "      channel.send({})\n",
              "\n",
              "      for await (const message of channel.messages) {\n",
              "        // Send a message to notify the kernel that we're ready.\n",
              "        channel.send({})\n",
              "        if (message.buffers) {\n",
              "          for (const buffer of message.buffers) {\n",
              "            buffers.push(buffer);\n",
              "            downloaded += buffer.byteLength;\n",
              "            progress.value = downloaded;\n",
              "          }\n",
              "        }\n",
              "      }\n",
              "      const blob = new Blob(buffers, {type: 'application/binary'});\n",
              "      const a = document.createElement('a');\n",
              "      a.href = window.URL.createObjectURL(blob);\n",
              "      a.download = filename;\n",
              "      div.appendChild(a);\n",
              "      a.click();\n",
              "      div.remove();\n",
              "    }\n",
              "  "
            ]
          },
          "metadata": {}
        },
        {
          "output_type": "display_data",
          "data": {
            "text/plain": [
              "<IPython.core.display.Javascript object>"
            ],
            "application/javascript": [
              "download(\"download_2251a979-eb96-4c4e-9f91-e97a6837de24\", \"jpg_folder.zip\", 1350376)"
            ]
          },
          "metadata": {}
        }
      ]
    },
    {
      "cell_type": "markdown",
      "source": [
        "4. 텍스트 추출"
      ],
      "metadata": {
        "id": "OxHe3Ykw5wHz"
      }
    },
    {
      "cell_type": "code",
      "source": [
        "import os, re\n",
        "import fitz  # PyMuPDF\n",
        "\n",
        "# ==== 경로 ====\n",
        "PDF_DIR = \"/content/pdf\"\n",
        "TXT_DIR = \"/content/txt\"\n",
        "os.makedirs(TXT_DIR, exist_ok=True)\n",
        "\n",
        "# ==== 옵션 ====\n",
        "ROW_KEYWORDS = [\"comment\", \"코멘트\"]\n",
        "\n",
        "# ==== 유틸 ====\n",
        "def _norm_token(s: str) -> str:\n",
        "    return re.sub(r\"[^0-9a-zA-Z가-힣]\", \"\", (s or \"\").lower())\n",
        "\n",
        "def extract_comment_text(page: fitz.Page) -> str:\n",
        "    \"\"\"\n",
        "    텍스트 PDF에서 코멘트 라벨 옆 칸의 전체 텍스트 추출\n",
        "    \"\"\"\n",
        "    blocks = page.get_text(\"blocks\")  # (x0, y0, x1, y1, text, block_no, ...)\n",
        "    label_block = None\n",
        "\n",
        "    # 1) 코멘트 라벨 블록 찾기\n",
        "    for b in blocks:\n",
        "        x0, y0, x1, y1, txt, *_ = b\n",
        "        norm = _norm_token(txt)\n",
        "        if any(_norm_token(kw) in norm for kw in ROW_KEYWORDS):\n",
        "            label_block = (x0, y0, x1, y1)\n",
        "            break\n",
        "\n",
        "    if label_block is None:\n",
        "        return \"코멘트 없음\"\n",
        "\n",
        "    _, y0, x1_label, y1 = label_block\n",
        "\n",
        "    # 2) 라벨과 같은 세로 영역(y범위)에 있고, 라벨 오른쪽(x0 > x1_label)인 블록 수집\n",
        "    comment_blocks = []\n",
        "    for b in blocks:\n",
        "        x0, by0, x1, by1, txt, *_ = b\n",
        "        if x0 > x1_label and not _norm_token(txt) in [_norm_token(k) for k in ROW_KEYWORDS]:\n",
        "            # 같은 행 또는 약간 겹치는 범위로 간주\n",
        "            if (by0 >= y0 - 5) and (by1 <= page.rect.y1 + 5):\n",
        "                comment_blocks.append(b)\n",
        "\n",
        "    # 3) y0, x0 기준으로 정렬\n",
        "    comment_blocks.sort(key=lambda b: (round(b[1]), b[0]))\n",
        "\n",
        "    # 4) 텍스트만 추출\n",
        "    texts = [b[4].strip() for b in comment_blocks if b[4].strip()]\n",
        "    text = \" \".join(texts)\n",
        "    text = re.sub(r\"\\s+\", \" \", text).strip()\n",
        "\n",
        "    return text if text else \"숙제를 해오지 않았습니다.\""
      ],
      "metadata": {
        "id": "nba57FOkBTBo"
      },
      "execution_count": 6,
      "outputs": []
    },
    {
      "cell_type": "markdown",
      "source": [
        "#### 여기에서 학원이름과 날짜 수정해주셔야 합니다."
      ],
      "metadata": {
        "id": "MfJqdm-1CEce"
      }
    },
    {
      "cell_type": "code",
      "source": [
        "# ==== 실행 ====\n",
        "results = {}\n",
        "\n",
        "for pdf_file in os.listdir(PDF_DIR):\n",
        "    if not pdf_file.lower().endswith(\".pdf\"):\n",
        "        continue\n",
        "\n",
        "    base = os.path.splitext(pdf_file)[0]\n",
        "    m = re.match(r\".*_(TEST|HW)_(.+)\", base)\n",
        "    if not m:\n",
        "        continue\n",
        "    kind, name = m.groups()\n",
        "\n",
        "    doc = fitz.open(os.path.join(PDF_DIR, pdf_file))\n",
        "    if len(doc) == 0:\n",
        "        continue\n",
        "    page = doc[0]\n",
        "\n",
        "    comment_text = extract_comment_text(page)\n",
        "\n",
        "    if name not in results:\n",
        "        results[name] = {}\n",
        "    results[name][kind] = comment_text\n",
        "\n",
        "    doc.close()\n",
        "\n",
        "# ==== txt 저장 ====\n",
        "for name, comments in results.items():\n",
        "    txt_path = os.path.join(TXT_DIR, f\"{name}.txt\")\n",
        "    with open(txt_path, \"w\", encoding=\"utf-8\") as f:\n",
        "\n",
        "\n",
        "############################################################# 학원 위치 수정 / 날짜 수정 #####################################################################################\n",
        "        f.write(\"안녕하세요. 중계 매시브학원 국어 이동인T입니다.\\n\\n\")\n",
        "        f.write(\"2025. 08. 24. TEST 채점 결과 발송드립니다.\\n\\n\")\n",
        "        f.write(\"--- TEST 코멘트 ---\\n\")\n",
        "        f.write(comments.get(\"TEST\", \"코멘트 없음\") + \"\\n\\n\")\n",
        "        f.write(\"--- HW 코멘트 ---\\n\")\n",
        "        f.write(comments.get(\"HW\", \"숙제를 해오지 않았습니다\") + \"\\n\")\n",
        "\n",
        "print(\"✅ 모든 학생 코멘트가 txt로 저장되었습니다.\")"
      ],
      "metadata": {
        "id": "tnr6Fxa8B-o1",
        "colab": {
          "base_uri": "https://localhost:8080/"
        },
        "outputId": "fe376f0f-bdd6-451c-f517-b27ebd66a047"
      },
      "execution_count": 7,
      "outputs": [
        {
          "output_type": "stream",
          "name": "stdout",
          "text": [
            "✅ 모든 학생 코멘트가 txt로 저장되었습니다.\n"
          ]
        }
      ]
    },
    {
      "cell_type": "markdown",
      "source": [
        "5. txt 폴더 저장 - 마찬가지로 zip 형태로 저장됩니다. 압축을 풀면 이름으로 저장된 txt 파일을 확인할 수 있습니다. 곧바로 복사해서 알리고로 쏘면 됩니다."
      ],
      "metadata": {
        "id": "EH-MSB7dFTSB"
      }
    },
    {
      "cell_type": "code",
      "source": [
        "import shutil\n",
        "from google.colab import files\n",
        "\n",
        "# txt 폴더를 zip으로 압축\n",
        "shutil.make_archive(\"/content/txt_folder\", 'zip', TXT_DIR)\n",
        "\n",
        "# 로컬 다운로드\n",
        "files.download(\"/content/txt_folder.zip\")\n"
      ],
      "metadata": {
        "colab": {
          "base_uri": "https://localhost:8080/",
          "height": 17
        },
        "id": "m515_-GR7MzK",
        "outputId": "5c418825-968d-4aaf-d066-b9324ae7e88d"
      },
      "execution_count": 8,
      "outputs": [
        {
          "output_type": "display_data",
          "data": {
            "text/plain": [
              "<IPython.core.display.Javascript object>"
            ],
            "application/javascript": [
              "\n",
              "    async function download(id, filename, size) {\n",
              "      if (!google.colab.kernel.accessAllowed) {\n",
              "        return;\n",
              "      }\n",
              "      const div = document.createElement('div');\n",
              "      const label = document.createElement('label');\n",
              "      label.textContent = `Downloading \"${filename}\": `;\n",
              "      div.appendChild(label);\n",
              "      const progress = document.createElement('progress');\n",
              "      progress.max = size;\n",
              "      div.appendChild(progress);\n",
              "      document.body.appendChild(div);\n",
              "\n",
              "      const buffers = [];\n",
              "      let downloaded = 0;\n",
              "\n",
              "      const channel = await google.colab.kernel.comms.open(id);\n",
              "      // Send a message to notify the kernel that we're ready.\n",
              "      channel.send({})\n",
              "\n",
              "      for await (const message of channel.messages) {\n",
              "        // Send a message to notify the kernel that we're ready.\n",
              "        channel.send({})\n",
              "        if (message.buffers) {\n",
              "          for (const buffer of message.buffers) {\n",
              "            buffers.push(buffer);\n",
              "            downloaded += buffer.byteLength;\n",
              "            progress.value = downloaded;\n",
              "          }\n",
              "        }\n",
              "      }\n",
              "      const blob = new Blob(buffers, {type: 'application/binary'});\n",
              "      const a = document.createElement('a');\n",
              "      a.href = window.URL.createObjectURL(blob);\n",
              "      a.download = filename;\n",
              "      div.appendChild(a);\n",
              "      a.click();\n",
              "      div.remove();\n",
              "    }\n",
              "  "
            ]
          },
          "metadata": {}
        },
        {
          "output_type": "display_data",
          "data": {
            "text/plain": [
              "<IPython.core.display.Javascript object>"
            ],
            "application/javascript": [
              "download(\"download_72f83b8b-abed-4f75-9912-7e5f00be1bed\", \"txt_folder.zip\", 5185)"
            ]
          },
          "metadata": {}
        }
      ]
    }
  ]
}