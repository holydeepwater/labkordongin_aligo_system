{
  "nbformat": 4,
  "nbformat_minor": 0,
  "metadata": {
    "colab": {
      "provenance": []
    },
    "kernelspec": {
      "name": "python3",
      "display_name": "Python 3"
    },
    "language_info": {
      "name": "python"
    }
  },
  "cells": [
    {
      "cell_type": "code",
      "execution_count": null,
      "metadata": {
        "id": "qfuAXMARkFVg",
        "colab": {
          "base_uri": "https://localhost:8080/"
        },
        "outputId": "a02284c9-1ce5-4167-d458-f0ca50e03b97"
      },
      "outputs": [
        {
          "output_type": "stream",
          "name": "stdout",
          "text": [
            "Selecting previously unselected package tesseract-ocr-kor.\n",
            "(Reading database ... 126371 files and directories currently installed.)\n",
            "Preparing to unpack .../tesseract-ocr-kor_1%3a4.00~git30-7274cfa-1.1_all.deb ...\n",
            "Unpacking tesseract-ocr-kor (1:4.00~git30-7274cfa-1.1) ...\n",
            "Setting up tesseract-ocr-kor (1:4.00~git30-7274cfa-1.1) ...\n",
            "\u001b[2K   \u001b[90m━━━━━━━━━━━━━━━━━━━━━━━━━━━━━━━━━━━━━━━━\u001b[0m \u001b[32m24.1/24.1 MB\u001b[0m \u001b[31m61.4 MB/s\u001b[0m eta \u001b[36m0:00:00\u001b[0m\n",
            "\u001b[?25h"
          ]
        }
      ],
      "source": [
        "!apt-get -y install -qq tesseract-ocr tesseract-ocr-kor\n",
        "!pip -q install pymupdf pillow pytesseract google-api-python-client google-auth-httplib2 google-auth-oauthlib opencv-python-headless"
      ]
    },
    {
      "cell_type": "code",
      "source": [
        "from google.colab import auth\n",
        "auth.authenticate_user()\n",
        "print(\"Authenticated.\")"
      ],
      "metadata": {
        "colab": {
          "base_uri": "https://localhost:8080/"
        },
        "id": "MwHHpV6JkG3Q",
        "outputId": "e1cce328-cfc0-4a10-9ac6-bfe580c18f0a"
      },
      "execution_count": null,
      "outputs": [
        {
          "output_type": "stream",
          "name": "stdout",
          "text": [
            "Authenticated.\n"
          ]
        }
      ]
    },
    {
      "cell_type": "code",
      "source": [],
      "metadata": {
        "id": "vFfWvt1AuSsD"
      },
      "execution_count": null,
      "outputs": []
    },
    {
      "cell_type": "code",
      "source": [
        "# ====== 반드시 바꿔 넣기 ======\n",
        "SOURCE_FOLDER_ID = \"1JccGWwnFlyPgkQA8ZBibZZhUap5hWhSF\"   # DB 개설할때와 동일합니다.: pdf가 있는 곳의 파일 ID를 작성해주세요.TEST/HW 별로 교체해서 사용하시면 됩니다. # Replace \"PDF\" with your actual Google Drive folder ID\n",
        "DEST_FOLDER_ID   = \"1G4ygIz6Dw3ej1M_qj3XNu8Fvtdmn3IRu\"   # DB 개설할때와 동일합니다.: 사진을 저장할 폴더 ID를 작성해주세요. 신규 개설을 해주시면 됩니다. 명칭은 상관 없습니다.\n",
        "# =================================\n",
        "\n",
        "# ---- 옵션(필요 시만 조정) ----\n",
        "PROCESS_FIRST_PAGE_ONLY = True   # True=1페이지만 처리, False=모든 페이지\n",
        "ZOOM = 2.6                       # 렌더 배율(2.2~3.0 권장; 작게 보이면 올리기)\n",
        "ROW_KEYWORDS = [\"comment\", \"코멘트\"]  # 키워드(영/한)\n",
        "OCR_LANGS = \"eng+kor\"            # OCR 언어_한국어 영어 무관하게 그냥 인풋\n",
        "OCR_MIN_CONF = 50                # OCR 신뢰도 임계값(낮출수록 더 민감한데 더 낮추면 시간 너무 오래걸려....)\n",
        "OCR_PSM = 6                      # 6=블록/단락, 7=한 줄 인식\n",
        "MIN_HLINE_RATIO = 0.55           # 가로선 최소 길이(이미지 폭 대비)_PDF 파일 이미지 크기 계산해서 넣음.\n",
        "LEFT_BAND_RATIO = 0.4            # 행의 '왼쪽'만 OCR (라벨이 오른쪽이면 0.6~0.8)\n",
        "ROW_PAD_UP_PT = 2                # 행 위 여유(pt)_포인트로 2 여백 남기기\n",
        "ROW_PAD_DOWN_PT = 2              # 행 아래 여유(pt)_포인트로 2 여백 남기기\n",
        "# -----------------------------\n",
        "# 이하 모든 구글 드라이브와 활용해야 하는 함수들 전부 import로 넣음.\n",
        "import io, time, math, re\n",
        "from typing import List, Dict, Optional, Tuple\n",
        "import numpy as np\n",
        "import cv2\n",
        "import fitz  # PyMuPDF\n",
        "from PIL import Image, ImageDraw\n",
        "import pytesseract\n",
        "from pytesseract import Output\n",
        "from googleapiclient.discovery import build\n",
        "from googleapiclient.http import MediaIoBaseDownload, MediaIoBaseUpload\n",
        "\n",
        "# ---- Drive API ---- -> Drive API 명령어 함수 구성 건드리지 말 것! 본인이 고칠 수 있다면 위 아래 꼭 살펴봐주세요.\n",
        "drive = build(\"drive\", \"v3\")\n",
        "\n",
        "def list_children(folder_id: str, mime: Optional[str]=None) -> List[Dict]:\n",
        "    q = f\"'{folder_id}' in parents and trashed=false\"\n",
        "    if mime: q += f\" and mimeType='{mime}'\"\n",
        "    out, tok = [], None\n",
        "    while True:\n",
        "        resp = drive.files().list(q=q, fields=\"nextPageToken,files(id,name,mimeType)\", pageToken=tok).execute()\n",
        "        out += resp.get(\"files\", [])\n",
        "        tok = resp.get(\"nextPageToken\")\n",
        "        if not tok: break\n",
        "    return out\n",
        "\n",
        "def list_pdfs_recursive(root_id: str) -> List[Dict]:\n",
        "    stack, pdfs = [root_id], []\n",
        "    while stack:\n",
        "        cur = stack.pop()\n",
        "        for f in list_children(cur, \"application/vnd.google-apps.folder\"):\n",
        "            stack.append(f[\"id\"])\n",
        "        pdfs += list_children(cur, \"application/pdf\")\n",
        "    return pdfs\n",
        "\n",
        "def download_pdf_bytes(file_id: str) -> bytes:\n",
        "    req = drive.files().get_media(fileId=file_id)\n",
        "    buf = io.BytesIO()\n",
        "    downloader = MediaIoBaseDownload(buf, req)\n",
        "    done = False\n",
        "    while not done:\n",
        "        _, done = downloader.next_chunk()\n",
        "    return buf.getvalue()\n",
        "\n",
        "def upload_png_bytes(data: bytes, filename: str, folder_id: str):\n",
        "    media = MediaIoBaseUpload(io.BytesIO(data), mimetype=\"image/png\", resumable=False)\n",
        "    drive.files().create(media_body=media, body={\"name\": filename, \"parents\": [folder_id]}).execute()\n",
        "\n",
        "\n",
        "# ==== Comment 행(가로줄) 찾기: 텍스트 추출에 의존하지 않는 OpenCV+OCR 방식 ==== 지피티야 고마워....\n",
        "def _norm_token(s: str) -> str:\n",
        "    return re.sub(r\"[^0-9a-zA-Z가-힣]\", \"\", (s or \"\").lower())\n",
        "\n",
        "def _opencv_horizontal_lines(gray: np.ndarray, min_len_ratio: float) -> list[int]:\n",
        "    thr = cv2.threshold(gray, 0, 255, cv2.THRESH_BINARY+cv2.THRESH_OTSU)[1]\n",
        "    binimg = 255 - thr if np.mean(thr) > 128 else thr  # 선 강조\n",
        "    W = gray.shape[1]\n",
        "    k = max(1, W // 60)  # 폭에 비례한 커널\n",
        "    kernel = cv2.getStructuringElement(cv2.MORPH_RECT, (k, 1))\n",
        "    morph = cv2.morphologyEx(binimg, cv2.MORPH_OPEN, kernel, iterations=1)\n",
        "    contours, _ = cv2.findContours(morph, cv2.RETR_EXTERNAL, cv2.CHAIN_APPROX_SIMPLE)\n",
        "    ys = []\n",
        "    for c in contours:\n",
        "        x, y, w, h = cv2.boundingRect(c)\n",
        "        if w >= int(W * min_len_ratio) and h <= 4:\n",
        "            ys.append(y)\n",
        "    return sorted(set(ys))\n",
        "\n",
        "def _ocr_has_keyword(pil_img: Image.Image) -> bool:\n",
        "    data = pytesseract.image_to_data(pil_img, lang=OCR_LANGS, config=f\"--psm {OCR_PSM}\", output_type=Output.DICT)\n",
        "    for i in range(len(data[\"text\"])):\n",
        "        txt = _norm_token(data[\"text\"][i])\n",
        "        if not txt:\n",
        "            continue\n",
        "        try: conf = float(data[\"conf\"][i])\n",
        "        except: conf = 0\n",
        "        if conf < OCR_MIN_CONF:\n",
        "            continue\n",
        "        for kw in ROW_KEYWORDS:\n",
        "            if _norm_token(kw) in txt:\n",
        "                return True\n",
        "    return False\n",
        "\n",
        "def find_comment_row_band(page: fitz.Page) -> Optional[Tuple[float,float]]:\n",
        "    # 1) 페이지 고해상도 렌더링하기. Comment 라는 셀 찾을 수 있게 최대한 땡겨 보는 것\n",
        "    mat = fitz.Matrix(ZOOM, ZOOM)\n",
        "    pix = page.get_pixmap(matrix=mat, alpha=False)\n",
        "    Wpx, Hpx = pix.width, pix.height\n",
        "    img = Image.frombytes(\"RGB\", (Wpx, Hpx), pix.samples)\n",
        "    gray = cv2.cvtColor(np.array(img), cv2.COLOR_RGB2GRAY)\n",
        "\n",
        "    # 2) 긴 수평선(y 픽셀) 검출 → 행 경계 후보 : 수평선을 전부 지울거라 이렇게 넣었어요.\n",
        "    y_lines = _opencv_horizontal_lines(gray, MIN_HLINE_RATIO)\n",
        "    if len(y_lines) < 2:\n",
        "        return None\n",
        "    y_lines = sorted(y_lines)\n",
        "\n",
        "    # 3) 각 '행 밴드'의 왼쪽 부분만 OCR해서 키워드 있는 행 찾기 : OCR이 성공해야 이게 적용이 되는데,,, 안되는 경우도 있는 거 같음. 규격 문제로 추정\n",
        "    left_w = int(Wpx * LEFT_BAND_RATIO)\n",
        "    for i in range(len(y_lines)-1):\n",
        "        top_px, bot_px = y_lines[i], y_lines[i+1]\n",
        "        if bot_px - top_px < 8:  # 너무 얇은 밴드는 제외\n",
        "            continue\n",
        "        crop = img.crop((0, top_px, left_w, bot_px))\n",
        "        if _ocr_has_keyword(crop):\n",
        "            # 픽셀 → 포인트 환산 (pt = px / ZOOM)\n",
        "            top_pt = max(page.rect.y0, (top_px / ZOOM) - ROW_PAD_UP_PT)\n",
        "            bot_pt = min(page.rect.y1, (bot_px / ZOOM) + ROW_PAD_DOWN_PT)\n",
        "            return (top_pt, bot_pt)\n",
        "    return None\n",
        "\n",
        "def render_page_masking_band(page: fitz.Page, band: Optional[Tuple[float,float]], zoom: float = ZOOM) -> Image.Image:\n",
        "    mat = fitz.Matrix(zoom, zoom)\n",
        "    pix = page.get_pixmap(matrix=mat, alpha=False)\n",
        "    img = Image.frombytes(\"RGB\", [pix.width, pix.height], pix.samples)\n",
        "    if band:\n",
        "        px_per_pt = zoom\n",
        "        top_px = int(max(0, round(band[0] * px_per_pt)))\n",
        "        bot_px = int(min(img.height, round(band[1] * px_per_pt)))\n",
        "        draw = ImageDraw.Draw(img)\n",
        "        draw.rectangle([(0, top_px), (img.width, bot_px)], fill=(255,255,255))\n",
        "    return img"
      ],
      "metadata": {
        "id": "D5vXcoK2kJ8L"
      },
      "execution_count": 10,
      "outputs": []
    },
    {
      "cell_type": "code",
      "source": [
        "pdf_items = list_pdfs_recursive(SOURCE_FOLDER_ID)\n",
        "print(f\"발견된 PDF: {len(pdf_items)}개\")\n",
        "\n",
        "total = 0 # 역시 그냥 지정할 땐 0\n",
        "t0 = time.time()\n",
        "\n",
        "for idx, item in enumerate(pdf_items, 1):\n",
        "    fid, fname = item[\"id\"], item[\"name\"]\n",
        "    print(f\"[{idx}/{len(pdf_items)}] 처리중 → {fname}\")\n",
        "\n",
        "    pdf_bytes = download_pdf_bytes(fid)\n",
        "    doc = fitz.open(stream=pdf_bytes, filetype=\"pdf\")\n",
        "    if len(doc) == 0:\n",
        "        print(\"  └ 빈 PDF → 스킵\")\n",
        "        doc.close()\n",
        "        continue\n",
        "\n",
        "    pages = range(1) if PROCESS_FIRST_PAGE_ONLY else range(len(doc))\n",
        "    for p in pages:\n",
        "        page = doc[p]\n",
        "        band = find_comment_row_band(page)          # Comment 행 위치(없으면 None으로 갈 수 있게 작성, 이거 없으면 두가지 상황 검토 안해주는 듯 ㅠ)\n",
        "        if band is None:\n",
        "            print(\"  └ Comment 행 미검출 → 원본 업로드\")\n",
        "        img = render_page_masking_band(page, band)  # 행 밴드만 흰색으로 지움 덧씌워서 안보이게\n",
        "\n",
        "        buf = io.BytesIO()\n",
        "        img.save(buf, format=\"PNG\", optimize=True)\n",
        "        out_name = f\"{fname.rsplit('.pdf',1)[0]}_p{p+1}_\"\n",
        "        upload_png_bytes(buf.getvalue(), out_name, DEST_FOLDER_ID)\n",
        "        total += 1\n",
        "\n",
        "    doc.close()\n",
        "\n",
        "print(f\"\\n완료! 업로드된 이미지: {total}개\")\n",
        "print(f\"저장 폴더(ID): {DEST_FOLDER_ID} | 소요: {time.time()-t0:.1f}s\")"
      ],
      "metadata": {
        "colab": {
          "base_uri": "https://localhost:8080/"
        },
        "collapsed": true,
        "id": "jAE05DjGkKkj",
        "outputId": "f2b27603-cae4-4731-87b5-b63a9c6e9378"
      },
      "execution_count": 11,
      "outputs": [
        {
          "output_type": "stream",
          "name": "stdout",
          "text": [
            "발견된 PDF: 13개\n",
            "[1/13] 처리중 → 25_05_경복궁매시브_고2_토2_2주차_TEST_김준서.pdf\n",
            "[2/13] 처리중 → 25_05_경복궁매시브_고2_토2_2주차_TEST_김민준.pdf\n",
            "[3/13] 처리중 → 25_05_경복궁매시브_고2_토2_2주차_TEST_김민기.pdf\n",
            "[4/13] 처리중 → 25_05_경복궁매시브_고2_토2_2주차_TEST_김승우.pdf\n",
            "[5/13] 처리중 → 25_05_경복궁매시브_고2_토2_2주차_TEST_주연우.pdf\n",
            "[6/13] 처리중 → 25_05_경복궁매시브_고2_토2_2주차_TEST_이현준.pdf\n",
            "[7/13] 처리중 → 25_05_경복궁매시브_고2_토2_2주차_TEST_전우현.pdf\n",
            "[8/13] 처리중 → 25_05_경복궁매시브_고2_토2_2주차_TEST_배승원.pdf\n",
            "[9/13] 처리중 → 25_05_경복궁매시브_고2_토2_2주차_HW_이현준.pdf\n",
            "[10/13] 처리중 → 25_05_경복궁매시브_고2_토2_2주차_HW_주연우.pdf\n",
            "[11/13] 처리중 → 25_05_경복궁매시브_고2_토2_2주차_HW_배승원.pdf\n",
            "[12/13] 처리중 → 25_05_경복궁매시브_고2_토2_2주차_HW_김준서.pdf\n",
            "[13/13] 처리중 → 25_05_경복궁매시브_고2_토2_2주차_HW_김민준.pdf\n",
            "\n",
            "완료! 업로드된 이미지: 13개\n",
            "저장 폴더(ID): 1G4ygIz6Dw3ej1M_qj3XNu8Fvtdmn3IRu | 소요: 139.1s\n"
          ]
        }
      ]
    }
  ]
}